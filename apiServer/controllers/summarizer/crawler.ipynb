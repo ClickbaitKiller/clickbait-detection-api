{
 "cells": [
  {
   "cell_type": "code",
   "execution_count": 9,
   "metadata": {},
   "outputs": [
    {
     "name": "stdout",
     "output_type": "stream",
     "text": [
      "http://smmry.com/http://www.breitbart.com/video/2017/11/10/alabama-abc-affiliate-cant-find-one-voter-believes-wapo-report-roy-moore-man-street-segment/#&SM_LENGTH=1\n",
      " During a segment that aired on Friday's broadcast of Birmingham, AL ABC affiliate WBMA 33/40's 5 p.m. local news, political reporter Lauren Walsh sought out voters in Columbiana, AL to gauge their reactions to the Washington Post report that alleged Republican U.S. Senate hopeful Roy Moore engaged in inappropriate conduct with four teenage girls more than 34 years ago. \"It's hard to believe the events that transpired yesterday,\" Gordon Fluker of nearby Wilsonville, AL said to Walsh about the Washington Post report. \"Out of all the voters we spoke with Friday in Columbiana, we didn't find one voter who believed the Washington Post report about Moore,\" she said. Columbiana is the county seat of Shelby County, a county that is the home to many of Birmingham's southern suburbs. In the GOP primary and the subsequent runoff for next month's special election won by Moore, Shelby County went for his opponent Luther Strange in both instances. In the runoff a month later, Strange topped Moore by a 55-45 margin. Moore faces Democrat candidate Doug Jones on December 12 for the U.S. Senate seat formerly held by Jeff Sessions.\n"
     ]
    }
   ],
   "source": [
    "from bs4 import BeautifulSoup\n",
    "\n",
    "\n",
    "def build_request(url):\n",
    "    base = 'http://smmry.com/'\n",
    "    end = '/#&SM_LENGTH=1'\n",
    "    return base + url + end\n",
    "\n",
    "def parseHtml(html):\n",
    "    soup = BeautifulSoup(html, 'html.parser')\n",
    "    container = soup.find(id='sm_container_output')\n",
    "    return container.text\n",
    "\n",
    "request = build_request('http://www.breitbart.com/video/2017/11/10/alabama-abc-affiliate-cant-find-one-voter-believes-wapo-report-roy-moore-man-street-segment')\n",
    "with urllib.request.urlopen(request) as c:\n",
    "    print(request)\n",
    "    html = c.read()\n",
    "    print(parseHtml(html))"
   ]
  },
  {
   "cell_type": "code",
   "execution_count": 11,
   "metadata": {},
   "outputs": [],
   "source": [
    "from time import sleep\n",
    "from selenium import webdriver\n",
    "\n",
    "driver = webdriver.PhantomJS() # or add to your PATH\n",
    "driver.set_window_size(1920, 1200) # optional"
   ]
  },
  {
   "cell_type": "code",
   "execution_count": 26,
   "metadata": {},
   "outputs": [
    {
     "name": "stdout",
     "output_type": "stream",
     "text": [
      "During a segment that aired on Friday's broadcast of Birmingham, AL ABC affiliate WBMA 33/40's 5 p.m. local news, political reporter Lauren Walsh sought out voters in Columbiana, AL to gauge their reactions to the Washington Post report that alleged Republican U.S. Senate hopeful Roy Moore engaged in inappropriate conduct with four teenage girls more than 34 years ago.\n"
     ]
    }
   ],
   "source": [
    "def build_request(url):\n",
    "    base = 'http://smmry.com/'\n",
    "    end = '/#&SM_LENGTH=1'\n",
    "    return base + url + end    \n",
    "\n",
    "\n",
    "request = build_request('http://www.breitbart.com/video/2017/11/10/alabama-abc-affiliate-cant-find-one-voter-believes-wapo-report-roy-moore-man-street-segment')\n",
    "\n",
    "driver.get(request)\n",
    "sleep(.4)\n",
    "container = driver.find_element_by_id('sm_container_output')\n",
    "\n",
    "print(container.text)\n",
    "\n",
    "\n"
   ]
  },
  {
   "cell_type": "code",
   "execution_count": 2,
   "metadata": {},
   "outputs": [
    {
     "name": "stdout",
     "output_type": "stream",
     "text": [
      "KeysView(environ({'NVM_RC_VERSION': '', 'NVM_IOJS_ORG_VERSION_LISTING': 'https://iojs.org/dist/index.tab', 'TERM_PROGRAM': 'Apple_Terminal', 'TERM': 'xterm-color', 'SHELL': '/bin/bash', 'TMPDIR': '/var/folders/yx/cgnr_8zs6mj_rc6dzkwwjw4r0000gn/T/', 'Apple_PubSub_Socket_Render': '/private/tmp/com.apple.launchd.XYJ7tCwva0/Render', 'TERM_PROGRAM_VERSION': '343.7', 'TERM_SESSION_ID': '49CC4D66-0633-4631-A567-507A4FABFE12', 'LC_ALL': 'en_US.UTF-8', 'NVM_DIR': '/Users/Marco/.nvm', 'USER': 'Marco', 'LD_LIBRARY_PATH': '/Users/Marco/torch/install/lib:', 'SSH_AUTH_SOCK': '/private/tmp/com.apple.launchd.hZ8B5a9ZCX/Listeners', '__CF_USER_TEXT_ENCODING': '0x1F5:0x0:0x0', 'PATH': '/usr/local/bin:/Users/Marco/spark/spark-1.6.2-bin-hadoop2.6/bin:/Users/Marco/anaconda/bin:/Users/Marco/anaconda/bin:/Users/Marco/torch/install/bin:/Users/Marco/.luarocks/bin:/Users/Marco/torch/install/bin:/Library/Frameworks/Python.framework/Versions/3.4/bin:/usr/local/bin:/usr/bin:/bin:/usr/sbin:/sbin:/opt/X11/bin:/usr/texbin', 'NVM_NODEJS_ORG_MIRROR': 'https://nodejs.org/dist', 'PWD': '/Users/Marco/dev/clickbait-detection-api/apiServer/controllers/summarizer', 'LANG': 'en_US.UTF-8', 'LUA_PATH': '/Users/Marco/.luarocks/share/lua/5.1/?.lua;/Users/Marco/.luarocks/share/lua/5.1/?/init.lua;/Users/Marco/torch/install/share/lua/5.1/?.lua;/Users/Marco/torch/install/share/lua/5.1/?/init.lua;./?.lua;/Users/Marco/torch/install/share/luajit-2.1.0-beta1/?.lua;/usr/local/share/lua/5.1/?.lua;/usr/local/share/lua/5.1/?/init.lua', 'LUA_CPATH': '/Users/Marco/.luarocks/lib/lua/5.1/?.so;/Users/Marco/torch/install/lib/lua/5.1/?.so;./?.so;/usr/local/lib/lua/5.1/?.so;/usr/local/lib/lua/5.1/loadall.so', 'XPC_FLAGS': '0x0', 'XPC_SERVICE_NAME': '0', 'HOME': '/Users/Marco', 'SHLVL': '1', 'DYLD_LIBRARY_PATH': '/Users/Marco/torch/install/lib:', 'LOGNAME': 'Marco', 'LC_CTYPE': 'UTF-8', 'SCALA_HOME': '/usr/local/bin/../Cellar/scala/2.11.7/bin/../idea', 'NVM_IOJS_ORG_MIRROR': 'https://iojs.org/dist', 'DISPLAY': '/private/tmp/com.apple.launchd.0jBRFaKyGc/org.macosforge.xquartz:0', 'SECURITYSESSIONID': '186a5', '_': '/usr/local/bin/jupyter', 'OLDPWD': '/Users/Marco/dev/clickbait-detection-api/apiServer/controllers', '__PYVENV_LAUNCHER__': '/usr/local/Cellar/python3/3.6.1/bin/python3.6', 'JPY_PARENT_PID': '69519', 'CLICOLOR': '1', 'PAGER': 'cat', 'GIT_PAGER': 'cat', 'MPLBACKEND': 'module://ipykernel.pylab.backend_inline'}))\n"
     ]
    }
   ],
   "source": [
    "import os\n",
    "print(os.environ.keys())"
   ]
  }
 ],
 "metadata": {
  "kernelspec": {
   "display_name": "Python 3",
   "language": "python",
   "name": "python3"
  },
  "language_info": {
   "codemirror_mode": {
    "name": "ipython",
    "version": 3
   },
   "file_extension": ".py",
   "mimetype": "text/x-python",
   "name": "python",
   "nbconvert_exporter": "python",
   "pygments_lexer": "ipython3",
   "version": "3.6.1"
  }
 },
 "nbformat": 4,
 "nbformat_minor": 2
}
