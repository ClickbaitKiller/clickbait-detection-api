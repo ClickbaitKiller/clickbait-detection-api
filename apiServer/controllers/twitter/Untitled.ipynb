{
 "cells": [
  {
   "cell_type": "code",
   "execution_count": 23,
   "metadata": {
    "collapsed": true
   },
   "outputs": [],
   "source": [
    "import twitter\n",
    "import re"
   ]
  },
  {
   "cell_type": "code",
   "execution_count": 5,
   "metadata": {},
   "outputs": [],
   "source": [
    "api = twitter.Api(consumer_key='x3nOLTWibiXWJalCEE8NGuGNn',\n",
    "                      consumer_secret='ULyX33kaM0NoT8gZu1JVcbGcHIvrCocxxUOJm7e7bK9OjHLuJe',\n",
    "                      access_token_key='2387757236-592DQJ5jW1zDCiirqqlQv777pWL91QPBWXAlf0K',\n",
    "                      access_token_secret='0QC8kXBc5oFQx2PrCqmsxtZ67VCNSo4F4SAxNfACWBOFb')"
   ]
  },
  {
   "cell_type": "code",
   "execution_count": 22,
   "metadata": {},
   "outputs": [
    {
     "name": "stdout",
     "output_type": "stream",
     "text": [
      "Why would Kim Jong-un insult me by calling me \"old,\" when I would NEVER call him \"short and fat?\" Oh well, I try so… https://t.co/PmsWNkH4r4\n"
     ]
    }
   ],
   "source": [
    "print(api.GetStatus(status_id=929511061954297857).text)"
   ]
  },
  {
   "cell_type": "code",
   "execution_count": 29,
   "metadata": {},
   "outputs": [
    {
     "data": {
      "text/plain": [
       "'929511061954297857'"
      ]
     },
     "execution_count": 29,
     "metadata": {},
     "output_type": "execute_result"
    }
   ],
   "source": [
    "regex = re.compile(r'/status/\\d*')\n",
    "\n",
    "s = 'https://twitter.com/realDonaldTrump/status/929511061954297857?s=09'\n",
    "    \n",
    "regex.search(s)[0].split('/status/')[1]"
   ]
  }
 ],
 "metadata": {
  "kernelspec": {
   "display_name": "Python 3",
   "language": "python",
   "name": "python3"
  },
  "language_info": {
   "codemirror_mode": {
    "name": "ipython",
    "version": 3
   },
   "file_extension": ".py",
   "mimetype": "text/x-python",
   "name": "python",
   "nbconvert_exporter": "python",
   "pygments_lexer": "ipython3",
   "version": "3.6.1"
  }
 },
 "nbformat": 4,
 "nbformat_minor": 2
}
